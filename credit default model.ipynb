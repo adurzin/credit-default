{
 "cells": [
  {
   "cell_type": "code",
   "execution_count": 184,
   "id": "03bd7102",
   "metadata": {},
   "outputs": [],
   "source": [
    "import pandas as pd\n",
    "from scipy import stats\n",
    "from matplotlib import pyplot as plt\n",
    "import seaborn as sns"
   ]
  },
  {
   "cell_type": "markdown",
   "id": "dd164ba4",
   "metadata": {},
   "source": [
    "## Пути к директориям и файлам"
   ]
  },
  {
   "cell_type": "code",
   "execution_count": 185,
   "id": "d12c9751",
   "metadata": {},
   "outputs": [],
   "source": [
    "dataset_path = pd.read_csv(\"train.csv\")\n",
    "prep_dataset_path = pd.read_csv(\"test.csv\")"
   ]
  },
  {
   "cell_type": "code",
   "execution_count": 186,
   "id": "548b1f41",
   "metadata": {},
   "outputs": [],
   "source": [
    "test = prep_dataset_path\n",
    "train = dataset_path"
   ]
  },
  {
   "cell_type": "markdown",
   "id": "35efaa84",
   "metadata": {},
   "source": [
    "## Описание данных\n",
    "\n",
    "#####    Home Ownership - домовладение\n",
    "#####    Annual Income - годовой доход\n",
    "#####    Years in current job - количество лет на текущем месте работы\n",
    "#####    Tax Liens - налоговые обременения\n",
    "#####    Number of Open Accounts - количество открытых счетов\n",
    "#####    Years of Credit History - количество лет кредитной истории\n",
    "#####    Maximum Open Credit - наибольший открытый кредит (максимальная сумма, которая когда-либо была доступна клиенту)\n",
    "#####    Number of Credit Problems - количество проблем с кредитом\n",
    "#####    Months since last delinquent - количество месяцев с последней просрочки платежа\n",
    "#####    Bankruptcies - банкротства\n",
    "#####    Purpose - цель кредита\n",
    "#####    Term - срок кредита\n",
    "#####    Current Loan Amount - текущая сумма кредита (сумма, которую еще предстоит выплатить клиенту)\n",
    "#####    Current Credit Balance - текущий кредитный баланс (сумма, которую может тратить клиент с кредитного счета)\n",
    "#####    Monthly Debt - ежемесячный долг\n",
    "#####    Credit Score - баллы кредитного рейтинга\n",
    "#####    Credit Default - факт невыполнения кредитных обязательств (0 - погашен вовремя, 1 - просрочка)\n"
   ]
  },
  {
   "cell_type": "markdown",
   "id": "dbe9ad79",
   "metadata": {},
   "source": [
    "## Приведение типов"
   ]
  },
  {
   "cell_type": "code",
   "execution_count": 187,
   "id": "44c135e8",
   "metadata": {},
   "outputs": [],
   "source": [
    "# for colname in [\"Home Ownership\", \"Years in current job\", \"Purpose\", \"Term\"]:\n",
    "#     df[colname] = df[colname].astype(str)\n",
    "\n",
    "\n",
    "# пока-что не вижу признаки, которые можно было перевести к другому типу данных"
   ]
  },
  {
   "cell_type": "code",
   "execution_count": 188,
   "id": "b3b25b6b",
   "metadata": {},
   "outputs": [
    {
     "data": {
      "text/plain": [
       "(7500, 17)"
      ]
     },
     "execution_count": 188,
     "metadata": {},
     "output_type": "execute_result"
    }
   ],
   "source": [
    "df = dataset_path\n",
    "df.shape"
   ]
  },
  {
   "cell_type": "code",
   "execution_count": 189,
   "id": "08f57ed8",
   "metadata": {},
   "outputs": [
    {
     "name": "stdout",
     "output_type": "stream",
     "text": [
      "<class 'pandas.core.frame.DataFrame'>\n",
      "RangeIndex: 7500 entries, 0 to 7499\n",
      "Data columns (total 17 columns):\n",
      " #   Column                        Non-Null Count  Dtype  \n",
      "---  ------                        --------------  -----  \n",
      " 0   Home Ownership                7500 non-null   object \n",
      " 1   Annual Income                 5943 non-null   float64\n",
      " 2   Years in current job          7129 non-null   object \n",
      " 3   Tax Liens                     7500 non-null   float64\n",
      " 4   Number of Open Accounts       7500 non-null   float64\n",
      " 5   Years of Credit History       7500 non-null   float64\n",
      " 6   Maximum Open Credit           7500 non-null   float64\n",
      " 7   Number of Credit Problems     7500 non-null   float64\n",
      " 8   Months since last delinquent  3419 non-null   float64\n",
      " 9   Bankruptcies                  7486 non-null   float64\n",
      " 10  Purpose                       7500 non-null   object \n",
      " 11  Term                          7500 non-null   object \n",
      " 12  Current Loan Amount           7500 non-null   float64\n",
      " 13  Current Credit Balance        7500 non-null   float64\n",
      " 14  Monthly Debt                  7500 non-null   float64\n",
      " 15  Credit Score                  5943 non-null   float64\n",
      " 16  Credit Default                7500 non-null   int64  \n",
      "dtypes: float64(12), int64(1), object(4)\n",
      "memory usage: 996.2+ KB\n"
     ]
    }
   ],
   "source": [
    "df.info()"
   ]
  },
  {
   "cell_type": "markdown",
   "id": "f6c9baca",
   "metadata": {},
   "source": [
    "## Обзор данных"
   ]
  },
  {
   "cell_type": "markdown",
   "id": "58936a44",
   "metadata": {},
   "source": [
    "### Обзор целевой переменной"
   ]
  },
  {
   "cell_type": "code",
   "execution_count": 190,
   "id": "ae774680",
   "metadata": {},
   "outputs": [
    {
     "data": {
      "text/plain": [
       "0    5387\n",
       "1    2113\n",
       "Name: Credit Default, dtype: int64"
      ]
     },
     "execution_count": 190,
     "metadata": {},
     "output_type": "execute_result"
    }
   ],
   "source": [
    "df[\"Credit Default\"].value_counts()"
   ]
  },
  {
   "cell_type": "markdown",
   "id": "d1c468fc",
   "metadata": {},
   "source": [
    "### Обзор количественных признаков"
   ]
  },
  {
   "cell_type": "code",
   "execution_count": 191,
   "id": "be9f7c9c",
   "metadata": {},
   "outputs": [
    {
     "data": {
      "text/html": [
       "<div>\n",
       "<style scoped>\n",
       "    .dataframe tbody tr th:only-of-type {\n",
       "        vertical-align: middle;\n",
       "    }\n",
       "\n",
       "    .dataframe tbody tr th {\n",
       "        vertical-align: top;\n",
       "    }\n",
       "\n",
       "    .dataframe thead th {\n",
       "        text-align: right;\n",
       "    }\n",
       "</style>\n",
       "<table border=\"1\" class=\"dataframe\">\n",
       "  <thead>\n",
       "    <tr style=\"text-align: right;\">\n",
       "      <th></th>\n",
       "      <th>Annual Income</th>\n",
       "      <th>Tax Liens</th>\n",
       "      <th>Number of Open Accounts</th>\n",
       "      <th>Years of Credit History</th>\n",
       "      <th>Maximum Open Credit</th>\n",
       "      <th>Number of Credit Problems</th>\n",
       "      <th>Months since last delinquent</th>\n",
       "      <th>Bankruptcies</th>\n",
       "      <th>Current Loan Amount</th>\n",
       "      <th>Current Credit Balance</th>\n",
       "      <th>Monthly Debt</th>\n",
       "      <th>Credit Score</th>\n",
       "      <th>Credit Default</th>\n",
       "    </tr>\n",
       "  </thead>\n",
       "  <tbody>\n",
       "    <tr>\n",
       "      <th>count</th>\n",
       "      <td>5.943000e+03</td>\n",
       "      <td>7500.000000</td>\n",
       "      <td>7500.000000</td>\n",
       "      <td>7500.000000</td>\n",
       "      <td>7.500000e+03</td>\n",
       "      <td>7500.000000</td>\n",
       "      <td>3419.000000</td>\n",
       "      <td>7486.000000</td>\n",
       "      <td>7.500000e+03</td>\n",
       "      <td>7.500000e+03</td>\n",
       "      <td>7500.000000</td>\n",
       "      <td>5943.000000</td>\n",
       "      <td>7500.000000</td>\n",
       "    </tr>\n",
       "    <tr>\n",
       "      <th>mean</th>\n",
       "      <td>1.366392e+06</td>\n",
       "      <td>0.030133</td>\n",
       "      <td>11.130933</td>\n",
       "      <td>18.317467</td>\n",
       "      <td>9.451537e+05</td>\n",
       "      <td>0.170000</td>\n",
       "      <td>34.692600</td>\n",
       "      <td>0.117152</td>\n",
       "      <td>1.187318e+07</td>\n",
       "      <td>2.898332e+05</td>\n",
       "      <td>18314.454133</td>\n",
       "      <td>1151.087498</td>\n",
       "      <td>0.281733</td>\n",
       "    </tr>\n",
       "    <tr>\n",
       "      <th>std</th>\n",
       "      <td>8.453392e+05</td>\n",
       "      <td>0.271604</td>\n",
       "      <td>4.908924</td>\n",
       "      <td>7.041946</td>\n",
       "      <td>1.602622e+07</td>\n",
       "      <td>0.498598</td>\n",
       "      <td>21.688806</td>\n",
       "      <td>0.347192</td>\n",
       "      <td>3.192612e+07</td>\n",
       "      <td>3.178714e+05</td>\n",
       "      <td>11926.764673</td>\n",
       "      <td>1604.451418</td>\n",
       "      <td>0.449874</td>\n",
       "    </tr>\n",
       "    <tr>\n",
       "      <th>min</th>\n",
       "      <td>1.645970e+05</td>\n",
       "      <td>0.000000</td>\n",
       "      <td>2.000000</td>\n",
       "      <td>4.000000</td>\n",
       "      <td>0.000000e+00</td>\n",
       "      <td>0.000000</td>\n",
       "      <td>0.000000</td>\n",
       "      <td>0.000000</td>\n",
       "      <td>1.124200e+04</td>\n",
       "      <td>0.000000e+00</td>\n",
       "      <td>0.000000</td>\n",
       "      <td>585.000000</td>\n",
       "      <td>0.000000</td>\n",
       "    </tr>\n",
       "    <tr>\n",
       "      <th>25%</th>\n",
       "      <td>8.443410e+05</td>\n",
       "      <td>0.000000</td>\n",
       "      <td>8.000000</td>\n",
       "      <td>13.500000</td>\n",
       "      <td>2.792295e+05</td>\n",
       "      <td>0.000000</td>\n",
       "      <td>16.000000</td>\n",
       "      <td>0.000000</td>\n",
       "      <td>1.801690e+05</td>\n",
       "      <td>1.142565e+05</td>\n",
       "      <td>10067.500000</td>\n",
       "      <td>711.000000</td>\n",
       "      <td>0.000000</td>\n",
       "    </tr>\n",
       "    <tr>\n",
       "      <th>50%</th>\n",
       "      <td>1.168386e+06</td>\n",
       "      <td>0.000000</td>\n",
       "      <td>10.000000</td>\n",
       "      <td>17.000000</td>\n",
       "      <td>4.781590e+05</td>\n",
       "      <td>0.000000</td>\n",
       "      <td>32.000000</td>\n",
       "      <td>0.000000</td>\n",
       "      <td>3.095730e+05</td>\n",
       "      <td>2.093230e+05</td>\n",
       "      <td>16076.500000</td>\n",
       "      <td>731.000000</td>\n",
       "      <td>0.000000</td>\n",
       "    </tr>\n",
       "    <tr>\n",
       "      <th>75%</th>\n",
       "      <td>1.640137e+06</td>\n",
       "      <td>0.000000</td>\n",
       "      <td>14.000000</td>\n",
       "      <td>21.800000</td>\n",
       "      <td>7.935015e+05</td>\n",
       "      <td>0.000000</td>\n",
       "      <td>50.000000</td>\n",
       "      <td>0.000000</td>\n",
       "      <td>5.198820e+05</td>\n",
       "      <td>3.604062e+05</td>\n",
       "      <td>23818.000000</td>\n",
       "      <td>743.000000</td>\n",
       "      <td>1.000000</td>\n",
       "    </tr>\n",
       "    <tr>\n",
       "      <th>max</th>\n",
       "      <td>1.014934e+07</td>\n",
       "      <td>7.000000</td>\n",
       "      <td>43.000000</td>\n",
       "      <td>57.700000</td>\n",
       "      <td>1.304726e+09</td>\n",
       "      <td>7.000000</td>\n",
       "      <td>118.000000</td>\n",
       "      <td>4.000000</td>\n",
       "      <td>1.000000e+08</td>\n",
       "      <td>6.506797e+06</td>\n",
       "      <td>136679.000000</td>\n",
       "      <td>7510.000000</td>\n",
       "      <td>1.000000</td>\n",
       "    </tr>\n",
       "  </tbody>\n",
       "</table>\n",
       "</div>"
      ],
      "text/plain": [
       "       Annual Income    Tax Liens  Number of Open Accounts  \\\n",
       "count   5.943000e+03  7500.000000              7500.000000   \n",
       "mean    1.366392e+06     0.030133                11.130933   \n",
       "std     8.453392e+05     0.271604                 4.908924   \n",
       "min     1.645970e+05     0.000000                 2.000000   \n",
       "25%     8.443410e+05     0.000000                 8.000000   \n",
       "50%     1.168386e+06     0.000000                10.000000   \n",
       "75%     1.640137e+06     0.000000                14.000000   \n",
       "max     1.014934e+07     7.000000                43.000000   \n",
       "\n",
       "       Years of Credit History  Maximum Open Credit  \\\n",
       "count              7500.000000         7.500000e+03   \n",
       "mean                 18.317467         9.451537e+05   \n",
       "std                   7.041946         1.602622e+07   \n",
       "min                   4.000000         0.000000e+00   \n",
       "25%                  13.500000         2.792295e+05   \n",
       "50%                  17.000000         4.781590e+05   \n",
       "75%                  21.800000         7.935015e+05   \n",
       "max                  57.700000         1.304726e+09   \n",
       "\n",
       "       Number of Credit Problems  Months since last delinquent  Bankruptcies  \\\n",
       "count                7500.000000                   3419.000000   7486.000000   \n",
       "mean                    0.170000                     34.692600      0.117152   \n",
       "std                     0.498598                     21.688806      0.347192   \n",
       "min                     0.000000                      0.000000      0.000000   \n",
       "25%                     0.000000                     16.000000      0.000000   \n",
       "50%                     0.000000                     32.000000      0.000000   \n",
       "75%                     0.000000                     50.000000      0.000000   \n",
       "max                     7.000000                    118.000000      4.000000   \n",
       "\n",
       "       Current Loan Amount  Current Credit Balance   Monthly Debt  \\\n",
       "count         7.500000e+03            7.500000e+03    7500.000000   \n",
       "mean          1.187318e+07            2.898332e+05   18314.454133   \n",
       "std           3.192612e+07            3.178714e+05   11926.764673   \n",
       "min           1.124200e+04            0.000000e+00       0.000000   \n",
       "25%           1.801690e+05            1.142565e+05   10067.500000   \n",
       "50%           3.095730e+05            2.093230e+05   16076.500000   \n",
       "75%           5.198820e+05            3.604062e+05   23818.000000   \n",
       "max           1.000000e+08            6.506797e+06  136679.000000   \n",
       "\n",
       "       Credit Score  Credit Default  \n",
       "count   5943.000000     7500.000000  \n",
       "mean    1151.087498        0.281733  \n",
       "std     1604.451418        0.449874  \n",
       "min      585.000000        0.000000  \n",
       "25%      711.000000        0.000000  \n",
       "50%      731.000000        0.000000  \n",
       "75%      743.000000        1.000000  \n",
       "max     7510.000000        1.000000  "
      ]
     },
     "execution_count": 191,
     "metadata": {},
     "output_type": "execute_result"
    }
   ],
   "source": [
    "df.describe()"
   ]
  },
  {
   "cell_type": "markdown",
   "id": "a3e9aa1c",
   "metadata": {},
   "source": [
    "наблюдаются аномалии в следующих признаках:\n",
    "\n",
    "- Tax Liens (при этом mean == quantile 0.5) ?????\n",
    "- Number of Open Accounts (при этом mean == quantile 0.5) ?????\n",
    "- Years of Credit History (при этом mean == quantile 0.5)  возраст должен быть около 70-80 лет?\n",
    "- Maximum Open Credit\n",
    "- Months since last Delinquent (при этом mean == quantile 0.5) ?????\n",
    "- Number of Credit Problems (при этом mean == quantile 0.5)  ?????\n",
    "- Bankruptcies (при этом mean == quantile 0.5)\n",
    "- Current Loan Amount\n",
    "- Credit Score (max)\n"
   ]
  },
  {
   "cell_type": "markdown",
   "id": "9e3b1944",
   "metadata": {},
   "source": [
    "### Обзор номинативных признаков"
   ]
  },
  {
   "cell_type": "markdown",
   "id": "8c887f82",
   "metadata": {},
   "source": [
    "- Home Ownership - домовладение\n",
    "- Years in current job - количество лет на текущем месте работы\n",
    "- Purpose - цель кредита\n",
    "- Term - срок кредита"
   ]
  },
  {
   "cell_type": "code",
   "execution_count": 192,
   "id": "cd88c492",
   "metadata": {},
   "outputs": [
    {
     "name": "stdout",
     "output_type": "stream",
     "text": [
      "Home Ownership\n",
      "\n",
      "Home Mortgage    3637\n",
      "Rent             3204\n",
      "Own Home          647\n",
      "Have Mortgage      12\n",
      "Name: Home Ownership, dtype: int64\n",
      "****************************************************************************************************\n",
      "\n",
      "Years in current job\n",
      "\n",
      "10+ years    2332\n",
      "2 years       705\n",
      "3 years       620\n",
      "< 1 year      563\n",
      "5 years       516\n",
      "1 year        504\n",
      "4 years       469\n",
      "6 years       426\n",
      "7 years       396\n",
      "8 years       339\n",
      "9 years       259\n",
      "Name: Years in current job, dtype: int64\n",
      "****************************************************************************************************\n",
      "\n",
      "Purpose\n",
      "\n",
      "debt consolidation      5944\n",
      "other                    665\n",
      "home improvements        412\n",
      "business loan            129\n",
      "buy a car                 96\n",
      "medical bills             71\n",
      "major purchase            40\n",
      "take a trip               37\n",
      "buy house                 34\n",
      "small business            26\n",
      "wedding                   15\n",
      "moving                    11\n",
      "educational expenses      10\n",
      "vacation                   8\n",
      "renewable energy           2\n",
      "Name: Purpose, dtype: int64\n",
      "****************************************************************************************************\n",
      "\n",
      "Term\n",
      "\n",
      "Short Term    5556\n",
      "Long Term     1944\n",
      "Name: Term, dtype: int64\n",
      "****************************************************************************************************\n",
      "\n"
     ]
    }
   ],
   "source": [
    "for cat_colname in df.select_dtypes(include=\"object\").columns:\n",
    "    print(f'{cat_colname}' + '\\n\\n' + str(df[cat_colname].value_counts()) + '\\n' + '*' * 100 + '\\n')"
   ]
  },
  {
   "cell_type": "markdown",
   "id": "03d139b7",
   "metadata": {},
   "source": [
    "- изучить объединение в Home Ownership;\n",
    "- изучить объединение в Purpose;\n",
    "- изучить объединение в Years in Current job;"
   ]
  },
  {
   "cell_type": "markdown",
   "id": "3eae042f",
   "metadata": {},
   "source": [
    "## Обработка данных"
   ]
  },
  {
   "cell_type": "code",
   "execution_count": 193,
   "id": "7c41188a",
   "metadata": {},
   "outputs": [
    {
     "data": {
      "text/plain": [
       "Home Ownership                     0\n",
       "Annual Income                   1557\n",
       "Years in current job             371\n",
       "Tax Liens                          0\n",
       "Number of Open Accounts            0\n",
       "Years of Credit History            0\n",
       "Maximum Open Credit                0\n",
       "Number of Credit Problems          0\n",
       "Months since last delinquent    4081\n",
       "Bankruptcies                      14\n",
       "Purpose                            0\n",
       "Term                               0\n",
       "Current Loan Amount                0\n",
       "Current Credit Balance             0\n",
       "Monthly Debt                       0\n",
       "Credit Score                    1557\n",
       "Credit Default                     0\n",
       "dtype: int64"
      ]
     },
     "execution_count": 193,
     "metadata": {},
     "output_type": "execute_result"
    }
   ],
   "source": [
    "df.isna().sum()"
   ]
  },
  {
   "cell_type": "markdown",
   "id": "66cbabcb",
   "metadata": {},
   "source": [
    "отсутствует часть данных в:\n",
    "    \n",
    "    - Annual income;\n",
    "    - Years in current job;\n",
    "    - Month since last delinquent;\n",
    "    - Bankruptcies;\n",
    "    - Credit Score"
   ]
  },
  {
   "cell_type": "markdown",
   "id": "4f893000",
   "metadata": {},
   "source": [
    "### Заполнение пропусков"
   ]
  },
  {
   "cell_type": "markdown",
   "id": "690d5cb6",
   "metadata": {},
   "source": [
    "**Annual Income**"
   ]
  },
  {
   "cell_type": "code",
   "execution_count": 233,
   "id": "327422ce",
   "metadata": {},
   "outputs": [
    {
     "data": {
      "text/plain": [
       "0"
      ]
     },
     "execution_count": 233,
     "metadata": {},
     "output_type": "execute_result"
    }
   ],
   "source": [
    "def annual_income_fillna(df):\n",
    "    df.loc[df[\"Annual Income\"].isna(), \"Annual Income\"] = df[\"Annual Income\"].median() # замена пропусков годового дохода на медиану\n",
    "    return df\n",
    "\n",
    "train = annual_income_fillna(train)\n",
    "test = annual_income_fillna(test)\n",
    "\n",
    "df[\"Annual Income\"].isna().sum()"
   ]
  },
  {
   "cell_type": "markdown",
   "id": "8339e764",
   "metadata": {},
   "source": [
    "**Years in current job**"
   ]
  },
  {
   "cell_type": "code",
   "execution_count": 234,
   "id": "204c2cac",
   "metadata": {},
   "outputs": [
    {
     "data": {
      "text/plain": [
       "0"
      ]
     },
     "execution_count": 234,
     "metadata": {},
     "output_type": "execute_result"
    }
   ],
   "source": [
    "def years_in_current_job_fillna(df):\n",
    "    df.loc[df[\"Years in current job\"].isna(), \"Years in current job\"] = df[\"Years in current job\"].mode()[0]\n",
    "    return df\n",
    "\n",
    "train = years_in_current_job_fillna(train)\n",
    "test = years_in_current_job_fillna(test)\n",
    "\n",
    "df[\"Years in current job\"].isna().sum()"
   ]
  },
  {
   "cell_type": "markdown",
   "id": "bbc71772",
   "metadata": {},
   "source": [
    "**Months since last delinquent**"
   ]
  },
  {
   "cell_type": "code",
   "execution_count": 235,
   "id": "acd32fb2",
   "metadata": {},
   "outputs": [
    {
     "data": {
      "text/plain": [
       "0"
      ]
     },
     "execution_count": 235,
     "metadata": {},
     "output_type": "execute_result"
    }
   ],
   "source": [
    "def months_since_last_delinquent_fillna(df):\n",
    "    df.loc[df[\"Months since last delinquent\"].isna(), \"Months since last delinquent\"] = df[\"Months since last delinquent\"].median()\n",
    "    return df\n",
    "\n",
    "train = months_since_last_delinquent_fillna(train)\n",
    "test = months_since_last_delinquent_fillna(test)\n",
    "\n",
    "df[\"Months since last delinquent\"].isna().sum()"
   ]
  },
  {
   "cell_type": "markdown",
   "id": "29c82fdd",
   "metadata": {},
   "source": [
    "**Bankruptcies**"
   ]
  },
  {
   "cell_type": "code",
   "execution_count": 236,
   "id": "0fd6637c",
   "metadata": {},
   "outputs": [
    {
     "data": {
      "text/plain": [
       "0"
      ]
     },
     "execution_count": 236,
     "metadata": {},
     "output_type": "execute_result"
    }
   ],
   "source": [
    "def bankruptcies_fillna(df):\n",
    "    df.loc[df[\"Bankruptcies\"].isna(), \"Bankruptcies\"] = df[\"Bankruptcies\"].median()\n",
    "    return df\n",
    "\n",
    "train = bankruptcies_fillna(train)\n",
    "test = bankruptcies_fillna(test)\n",
    "\n",
    "df[\"Bankruptcies\"].isna().sum()"
   ]
  },
  {
   "cell_type": "markdown",
   "id": "6ca5b154",
   "metadata": {},
   "source": [
    "**Credit Score**"
   ]
  },
  {
   "cell_type": "code",
   "execution_count": 237,
   "id": "f1f44b1c",
   "metadata": {},
   "outputs": [],
   "source": [
    "def credit_score_fillna(df):\n",
    "    df.loc[df[\"Credit Score\"].isna(), \"Credit Score\"] = df[\"Credit Score\"].median()\n",
    "    return df\n",
    "\n",
    "train = credit_score_fillna(train)\n",
    "test = credit_score_fillna(test)"
   ]
  },
  {
   "cell_type": "markdown",
   "id": "6e5e2fa2",
   "metadata": {},
   "source": [
    "*Проверка заполененности*"
   ]
  },
  {
   "cell_type": "code",
   "execution_count": 238,
   "id": "bba44b3c",
   "metadata": {},
   "outputs": [
    {
     "name": "stdout",
     "output_type": "stream",
     "text": [
      "<class 'pandas.core.frame.DataFrame'>\n",
      "RangeIndex: 7500 entries, 0 to 7499\n",
      "Data columns (total 18 columns):\n",
      " #   Column                        Non-Null Count  Dtype  \n",
      "---  ------                        --------------  -----  \n",
      " 0   Home Ownership                7500 non-null   object \n",
      " 1   Annual Income                 7500 non-null   float64\n",
      " 2   Years in current job          7500 non-null   object \n",
      " 3   Tax Liens                     7500 non-null   float64\n",
      " 4   Number of Open Accounts       7500 non-null   float64\n",
      " 5   Years of Credit History       7500 non-null   float64\n",
      " 6   Maximum Open Credit           7500 non-null   float64\n",
      " 7   Number of Credit Problems     7500 non-null   float64\n",
      " 8   Months since last delinquent  7500 non-null   float64\n",
      " 9   Bankruptcies                  7500 non-null   float64\n",
      " 10  Purpose                       7500 non-null   object \n",
      " 11  Term                          7500 non-null   object \n",
      " 12  Current Loan Amount           7500 non-null   float64\n",
      " 13  Current Credit Balance        7500 non-null   float64\n",
      " 14  Monthly Debt                  7500 non-null   float64\n",
      " 15  Credit Score                  7500 non-null   float64\n",
      " 16  Credit Default                7500 non-null   int64  \n",
      " 17  Id                            7500 non-null   int64  \n",
      "dtypes: float64(12), int64(2), object(4)\n",
      "memory usage: 1.0+ MB\n"
     ]
    }
   ],
   "source": [
    "df.info()"
   ]
  },
  {
   "cell_type": "markdown",
   "id": "252a6aa2",
   "metadata": {},
   "source": [
    "### Обработка выбросов"
   ]
  },
  {
   "cell_type": "code",
   "execution_count": 239,
   "id": "e1a95437",
   "metadata": {},
   "outputs": [
    {
     "data": {
      "text/html": [
       "<div>\n",
       "<style scoped>\n",
       "    .dataframe tbody tr th:only-of-type {\n",
       "        vertical-align: middle;\n",
       "    }\n",
       "\n",
       "    .dataframe tbody tr th {\n",
       "        vertical-align: top;\n",
       "    }\n",
       "\n",
       "    .dataframe thead th {\n",
       "        text-align: right;\n",
       "    }\n",
       "</style>\n",
       "<table border=\"1\" class=\"dataframe\">\n",
       "  <thead>\n",
       "    <tr style=\"text-align: right;\">\n",
       "      <th></th>\n",
       "      <th>Annual Income</th>\n",
       "      <th>Tax Liens</th>\n",
       "      <th>Number of Open Accounts</th>\n",
       "      <th>Years of Credit History</th>\n",
       "      <th>Maximum Open Credit</th>\n",
       "      <th>Number of Credit Problems</th>\n",
       "      <th>Months since last delinquent</th>\n",
       "      <th>Bankruptcies</th>\n",
       "      <th>Current Loan Amount</th>\n",
       "      <th>Current Credit Balance</th>\n",
       "      <th>Monthly Debt</th>\n",
       "      <th>Credit Score</th>\n",
       "      <th>Credit Default</th>\n",
       "      <th>Id</th>\n",
       "    </tr>\n",
       "  </thead>\n",
       "  <tbody>\n",
       "    <tr>\n",
       "      <th>count</th>\n",
       "      <td>7.500000e+03</td>\n",
       "      <td>7500.000000</td>\n",
       "      <td>7500.000000</td>\n",
       "      <td>7500.000000</td>\n",
       "      <td>7.500000e+03</td>\n",
       "      <td>7500.000000</td>\n",
       "      <td>7500.000000</td>\n",
       "      <td>7500.000000</td>\n",
       "      <td>7500.000000</td>\n",
       "      <td>7.500000e+03</td>\n",
       "      <td>7500.000000</td>\n",
       "      <td>7500.000000</td>\n",
       "      <td>7500.000000</td>\n",
       "      <td>7500.000000</td>\n",
       "    </tr>\n",
       "    <tr>\n",
       "      <th>mean</th>\n",
       "      <td>1.325286e+06</td>\n",
       "      <td>0.030133</td>\n",
       "      <td>11.130933</td>\n",
       "      <td>18.317467</td>\n",
       "      <td>6.865423e+05</td>\n",
       "      <td>0.170000</td>\n",
       "      <td>33.227467</td>\n",
       "      <td>0.116933</td>\n",
       "      <td>309088.029067</td>\n",
       "      <td>2.898332e+05</td>\n",
       "      <td>18314.454133</td>\n",
       "      <td>723.392000</td>\n",
       "      <td>0.281733</td>\n",
       "      <td>3749.500000</td>\n",
       "    </tr>\n",
       "    <tr>\n",
       "      <th>std</th>\n",
       "      <td>7.567551e+05</td>\n",
       "      <td>0.271604</td>\n",
       "      <td>4.908924</td>\n",
       "      <td>7.041946</td>\n",
       "      <td>1.264791e+06</td>\n",
       "      <td>0.498598</td>\n",
       "      <td>14.703950</td>\n",
       "      <td>0.346904</td>\n",
       "      <td>171393.740131</td>\n",
       "      <td>3.178714e+05</td>\n",
       "      <td>11926.764673</td>\n",
       "      <td>24.196917</td>\n",
       "      <td>0.449874</td>\n",
       "      <td>2165.207842</td>\n",
       "    </tr>\n",
       "    <tr>\n",
       "      <th>min</th>\n",
       "      <td>1.645970e+05</td>\n",
       "      <td>0.000000</td>\n",
       "      <td>2.000000</td>\n",
       "      <td>4.000000</td>\n",
       "      <td>0.000000e+00</td>\n",
       "      <td>0.000000</td>\n",
       "      <td>0.000000</td>\n",
       "      <td>0.000000</td>\n",
       "      <td>11242.000000</td>\n",
       "      <td>0.000000e+00</td>\n",
       "      <td>0.000000</td>\n",
       "      <td>585.000000</td>\n",
       "      <td>0.000000</td>\n",
       "      <td>0.000000</td>\n",
       "    </tr>\n",
       "    <tr>\n",
       "      <th>25%</th>\n",
       "      <td>9.311330e+05</td>\n",
       "      <td>0.000000</td>\n",
       "      <td>8.000000</td>\n",
       "      <td>13.500000</td>\n",
       "      <td>2.792295e+05</td>\n",
       "      <td>0.000000</td>\n",
       "      <td>32.000000</td>\n",
       "      <td>0.000000</td>\n",
       "      <td>180169.000000</td>\n",
       "      <td>1.142565e+05</td>\n",
       "      <td>10067.500000</td>\n",
       "      <td>718.000000</td>\n",
       "      <td>0.000000</td>\n",
       "      <td>1874.750000</td>\n",
       "    </tr>\n",
       "    <tr>\n",
       "      <th>50%</th>\n",
       "      <td>1.168386e+06</td>\n",
       "      <td>0.000000</td>\n",
       "      <td>10.000000</td>\n",
       "      <td>17.000000</td>\n",
       "      <td>4.781590e+05</td>\n",
       "      <td>0.000000</td>\n",
       "      <td>32.000000</td>\n",
       "      <td>0.000000</td>\n",
       "      <td>309567.500000</td>\n",
       "      <td>2.093230e+05</td>\n",
       "      <td>16076.500000</td>\n",
       "      <td>731.000000</td>\n",
       "      <td>0.000000</td>\n",
       "      <td>3749.500000</td>\n",
       "    </tr>\n",
       "    <tr>\n",
       "      <th>75%</th>\n",
       "      <td>1.499974e+06</td>\n",
       "      <td>0.000000</td>\n",
       "      <td>14.000000</td>\n",
       "      <td>21.800000</td>\n",
       "      <td>7.935015e+05</td>\n",
       "      <td>0.000000</td>\n",
       "      <td>32.000000</td>\n",
       "      <td>0.000000</td>\n",
       "      <td>396929.500000</td>\n",
       "      <td>3.604062e+05</td>\n",
       "      <td>23818.000000</td>\n",
       "      <td>738.000000</td>\n",
       "      <td>1.000000</td>\n",
       "      <td>5624.250000</td>\n",
       "    </tr>\n",
       "    <tr>\n",
       "      <th>max</th>\n",
       "      <td>1.014934e+07</td>\n",
       "      <td>7.000000</td>\n",
       "      <td>43.000000</td>\n",
       "      <td>57.700000</td>\n",
       "      <td>5.756256e+07</td>\n",
       "      <td>7.000000</td>\n",
       "      <td>118.000000</td>\n",
       "      <td>4.000000</td>\n",
       "      <td>789030.000000</td>\n",
       "      <td>6.506797e+06</td>\n",
       "      <td>136679.000000</td>\n",
       "      <td>751.000000</td>\n",
       "      <td>1.000000</td>\n",
       "      <td>7499.000000</td>\n",
       "    </tr>\n",
       "  </tbody>\n",
       "</table>\n",
       "</div>"
      ],
      "text/plain": [
       "       Annual Income    Tax Liens  Number of Open Accounts  \\\n",
       "count   7.500000e+03  7500.000000              7500.000000   \n",
       "mean    1.325286e+06     0.030133                11.130933   \n",
       "std     7.567551e+05     0.271604                 4.908924   \n",
       "min     1.645970e+05     0.000000                 2.000000   \n",
       "25%     9.311330e+05     0.000000                 8.000000   \n",
       "50%     1.168386e+06     0.000000                10.000000   \n",
       "75%     1.499974e+06     0.000000                14.000000   \n",
       "max     1.014934e+07     7.000000                43.000000   \n",
       "\n",
       "       Years of Credit History  Maximum Open Credit  \\\n",
       "count              7500.000000         7.500000e+03   \n",
       "mean                 18.317467         6.865423e+05   \n",
       "std                   7.041946         1.264791e+06   \n",
       "min                   4.000000         0.000000e+00   \n",
       "25%                  13.500000         2.792295e+05   \n",
       "50%                  17.000000         4.781590e+05   \n",
       "75%                  21.800000         7.935015e+05   \n",
       "max                  57.700000         5.756256e+07   \n",
       "\n",
       "       Number of Credit Problems  Months since last delinquent  Bankruptcies  \\\n",
       "count                7500.000000                   7500.000000   7500.000000   \n",
       "mean                    0.170000                     33.227467      0.116933   \n",
       "std                     0.498598                     14.703950      0.346904   \n",
       "min                     0.000000                      0.000000      0.000000   \n",
       "25%                     0.000000                     32.000000      0.000000   \n",
       "50%                     0.000000                     32.000000      0.000000   \n",
       "75%                     0.000000                     32.000000      0.000000   \n",
       "max                     7.000000                    118.000000      4.000000   \n",
       "\n",
       "       Current Loan Amount  Current Credit Balance   Monthly Debt  \\\n",
       "count          7500.000000            7.500000e+03    7500.000000   \n",
       "mean         309088.029067            2.898332e+05   18314.454133   \n",
       "std          171393.740131            3.178714e+05   11926.764673   \n",
       "min           11242.000000            0.000000e+00       0.000000   \n",
       "25%          180169.000000            1.142565e+05   10067.500000   \n",
       "50%          309567.500000            2.093230e+05   16076.500000   \n",
       "75%          396929.500000            3.604062e+05   23818.000000   \n",
       "max          789030.000000            6.506797e+06  136679.000000   \n",
       "\n",
       "       Credit Score  Credit Default           Id  \n",
       "count   7500.000000     7500.000000  7500.000000  \n",
       "mean     723.392000        0.281733  3749.500000  \n",
       "std       24.196917        0.449874  2165.207842  \n",
       "min      585.000000        0.000000     0.000000  \n",
       "25%      718.000000        0.000000  1874.750000  \n",
       "50%      731.000000        0.000000  3749.500000  \n",
       "75%      738.000000        1.000000  5624.250000  \n",
       "max      751.000000        1.000000  7499.000000  "
      ]
     },
     "execution_count": 239,
     "metadata": {},
     "output_type": "execute_result"
    }
   ],
   "source": [
    "df.describe()"
   ]
  },
  {
   "cell_type": "markdown",
   "id": "b5fb8edf",
   "metadata": {},
   "source": [
    "**Maximum Open Credit**"
   ]
  },
  {
   "cell_type": "code",
   "execution_count": 240,
   "id": "f7b5cf79",
   "metadata": {},
   "outputs": [
    {
     "data": {
      "text/plain": [
       "<AxesSubplot:xlabel='Maximum Open Credit'>"
      ]
     },
     "execution_count": 240,
     "metadata": {},
     "output_type": "execute_result"
    },
    {
     "data": {
      "image/png": "[encoded data removed]",
      "text/plain": [
       "<Figure size 576x576 with 1 Axes>"
      ]
     },
     "metadata": {
      "needs_background": "light"
     },
     "output_type": "display_data"
    }
   ],
   "source": [
    "plt.figure(figsize=(8, 8))\n",
    "sns.boxplot(data=df,\n",
    "           x=\"Maximum Open Credit\")"
   ]
  },
  {
   "cell_type": "code",
   "execution_count": 241,
   "id": "c56d6be5",
   "metadata": {},
   "outputs": [],
   "source": [
    "def maximum_open_credit(df):\n",
    "    df.loc[df[\"Maximum Open Credit\"] > 2 * 10 ** 8, \"Maximum Open Credit\"] = df[\"Maximum Open Credit\"].quantile(0.99)\n",
    "    return df\n",
    "\n",
    "train = maximum_open_credit(train)\n",
    "test = maximum_open_credit(test)"
   ]
  },
  {
   "cell_type": "code",
   "execution_count": 242,
   "id": "f567dad9",
   "metadata": {},
   "outputs": [
    {
     "data": {
      "text/plain": [
       "0"
      ]
     },
     "execution_count": 242,
     "metadata": {},
     "output_type": "execute_result"
    }
   ],
   "source": [
    "(df[\"Maximum Open Credit\"] > 2 * 10 ** 8).sum()"
   ]
  },
  {
   "cell_type": "code",
   "execution_count": 243,
   "id": "ba339818",
   "metadata": {},
   "outputs": [
    {
     "data": {
      "text/plain": [
       "<AxesSubplot:xlabel='Maximum Open Credit'>"
      ]
     },
     "execution_count": 243,
     "metadata": {},
     "output_type": "execute_result"
    },
    {
     "data": {
      "image/png": "[encoded data removed]",
      "text/plain": [
       "<Figure size 576x576 with 1 Axes>"
      ]
     },
     "metadata": {
      "needs_background": "light"
     },
     "output_type": "display_data"
    }
   ],
   "source": [
    "plt.figure(figsize=(8, 8))\n",
    "sns.boxplot(data=df,\n",
    "           x=\"Maximum Open Credit\")"
   ]
  },
  {
   "cell_type": "markdown",
   "id": "670db6ba",
   "metadata": {},
   "source": [
    "**Current Loan Amount**"
   ]
  },
  {
   "cell_type": "code",
   "execution_count": 244,
   "id": "97dbc803",
   "metadata": {},
   "outputs": [
    {
     "data": {
      "text/plain": [
       "<AxesSubplot:xlabel='Current Loan Amount', ylabel='Density'>"
      ]
     },
     "execution_count": 244,
     "metadata": {},
     "output_type": "execute_result"
    },
    {
     "data": {
      "image/png": "[encoded data removed]",
      "text/plain": [
       "<Figure size 576x1008 with 1 Axes>"
      ]
     },
     "metadata": {
      "needs_background": "light"
     },
     "output_type": "display_data"
    }
   ],
   "source": [
    "plt.figure(figsize=(8, 14))\n",
    "sns.kdeplot(x=df[\"Current Loan Amount\"], shade=True)"
   ]
  },
  {
   "cell_type": "code",
   "execution_count": 245,
   "id": "a7517856",
   "metadata": {
    "scrolled": true
   },
   "outputs": [],
   "source": [
    "def current_loan_amount(df):\n",
    "    df.loc[df[\"Current Loan Amount\"] > 0.2 * 10 ** 8, \"Current Loan Amount\"] = df[\"Current Loan Amount\"].median()\n",
    "    return(df)\n",
    "\n",
    "train = current_loan_amount(train)\n",
    "test = current_loan_amount(test)"
   ]
  },
  {
   "cell_type": "code",
   "execution_count": 246,
   "id": "0092845f",
   "metadata": {},
   "outputs": [
    {
     "data": {
      "text/plain": [
       "<AxesSubplot:xlabel='Current Loan Amount', ylabel='Density'>"
      ]
     },
     "execution_count": 246,
     "metadata": {},
     "output_type": "execute_result"
    },
    {
     "data": {
      "image/png": "[encoded data removed]",
      "text/plain": [
       "<Figure size 432x288 with 1 Axes>"
      ]
     },
     "metadata": {
      "needs_background": "light"
     },
     "output_type": "display_data"
    }
   ],
   "source": [
    "sns.kdeplot(data=df[\"Current Loan Amount\"], shade=True)"
   ]
  },
  {
   "cell_type": "markdown",
   "id": "f93c1b35",
   "metadata": {},
   "source": [
    "**Credit Score**"
   ]
  },
  {
   "cell_type": "code",
   "execution_count": 247,
   "id": "b15ff9c6",
   "metadata": {},
   "outputs": [
    {
     "data": {
      "text/plain": [
       "<AxesSubplot:xlabel='Credit Score', ylabel='Density'>"
      ]
     },
     "execution_count": 247,
     "metadata": {},
     "output_type": "execute_result"
    },
    {
     "data": {
      "image/png": "[encoded data removed]",
      "text/plain": [
       "<Figure size 432x288 with 1 Axes>"
      ]
     },
     "metadata": {
      "needs_background": "light"
     },
     "output_type": "display_data"
    }
   ],
   "source": [
    "sns.kdeplot(x=df[\"Credit Score\"], shade=True)"
   ]
  },
  {
   "cell_type": "code",
   "execution_count": 248,
   "id": "f6c53fb2",
   "metadata": {},
   "outputs": [],
   "source": [
    "def credit_score(df):\n",
    "    df.loc[df[\"Credit Score\"] > 1500, \"Credit Score\"] = df[\"Credit Score\"].median()\n",
    "    return df\n",
    "\n",
    "train = credit_score(train)\n",
    "test = credit_score(test)"
   ]
  },
  {
   "cell_type": "code",
   "execution_count": 249,
   "id": "e3d2221c",
   "metadata": {},
   "outputs": [
    {
     "data": {
      "text/plain": [
       "<AxesSubplot:xlabel='Credit Score', ylabel='Density'>"
      ]
     },
     "execution_count": 249,
     "metadata": {},
     "output_type": "execute_result"
    },
    {
     "data": {
      "image/png": "[encoded data removed]",
      "text/plain": [
       "<Figure size 432x288 with 1 Axes>"
      ]
     },
     "metadata": {
      "needs_background": "light"
     },
     "output_type": "display_data"
    }
   ],
   "source": [
    "sns.kdeplot(x=df[\"Credit Score\"], shade=True)"
   ]
  },
  {
   "cell_type": "markdown",
   "id": "077276f4",
   "metadata": {},
   "source": [
    "### Построение новых признаков"
   ]
  },
  {
   "cell_type": "code",
   "execution_count": 250,
   "id": "bddd60da",
   "metadata": {},
   "outputs": [
    {
     "data": {
      "text/html": [
       "<div>\n",
       "<style scoped>\n",
       "    .dataframe tbody tr th:only-of-type {\n",
       "        vertical-align: middle;\n",
       "    }\n",
       "\n",
       "    .dataframe tbody tr th {\n",
       "        vertical-align: top;\n",
       "    }\n",
       "\n",
       "    .dataframe thead th {\n",
       "        text-align: right;\n",
       "    }\n",
       "</style>\n",
       "<table border=\"1\" class=\"dataframe\">\n",
       "  <thead>\n",
       "    <tr style=\"text-align: right;\">\n",
       "      <th></th>\n",
       "      <th>Home Ownership</th>\n",
       "      <th>Annual Income</th>\n",
       "      <th>Years in current job</th>\n",
       "      <th>Tax Liens</th>\n",
       "      <th>Number of Open Accounts</th>\n",
       "      <th>Years of Credit History</th>\n",
       "      <th>Maximum Open Credit</th>\n",
       "      <th>Number of Credit Problems</th>\n",
       "      <th>Months since last delinquent</th>\n",
       "      <th>Bankruptcies</th>\n",
       "      <th>Purpose</th>\n",
       "      <th>Term</th>\n",
       "      <th>Current Loan Amount</th>\n",
       "      <th>Current Credit Balance</th>\n",
       "      <th>Monthly Debt</th>\n",
       "      <th>Credit Score</th>\n",
       "      <th>Credit Default</th>\n",
       "      <th>Id</th>\n",
       "    </tr>\n",
       "  </thead>\n",
       "  <tbody>\n",
       "    <tr>\n",
       "      <th>0</th>\n",
       "      <td>Own Home</td>\n",
       "      <td>482087.0</td>\n",
       "      <td>10+ years</td>\n",
       "      <td>0.0</td>\n",
       "      <td>11.0</td>\n",
       "      <td>26.3</td>\n",
       "      <td>685960.0</td>\n",
       "      <td>1.0</td>\n",
       "      <td>32.0</td>\n",
       "      <td>1.0</td>\n",
       "      <td>debt consolidation</td>\n",
       "      <td>Short Term</td>\n",
       "      <td>309573.0</td>\n",
       "      <td>47386.0</td>\n",
       "      <td>7914.0</td>\n",
       "      <td>749.0</td>\n",
       "      <td>0</td>\n",
       "      <td>0</td>\n",
       "    </tr>\n",
       "    <tr>\n",
       "      <th>1</th>\n",
       "      <td>Own Home</td>\n",
       "      <td>1025487.0</td>\n",
       "      <td>10+ years</td>\n",
       "      <td>0.0</td>\n",
       "      <td>15.0</td>\n",
       "      <td>15.3</td>\n",
       "      <td>1181730.0</td>\n",
       "      <td>0.0</td>\n",
       "      <td>32.0</td>\n",
       "      <td>0.0</td>\n",
       "      <td>debt consolidation</td>\n",
       "      <td>Long Term</td>\n",
       "      <td>264968.0</td>\n",
       "      <td>394972.0</td>\n",
       "      <td>18373.0</td>\n",
       "      <td>737.0</td>\n",
       "      <td>1</td>\n",
       "      <td>1</td>\n",
       "    </tr>\n",
       "    <tr>\n",
       "      <th>2</th>\n",
       "      <td>Home Mortgage</td>\n",
       "      <td>751412.0</td>\n",
       "      <td>8 years</td>\n",
       "      <td>0.0</td>\n",
       "      <td>11.0</td>\n",
       "      <td>35.0</td>\n",
       "      <td>1182434.0</td>\n",
       "      <td>0.0</td>\n",
       "      <td>32.0</td>\n",
       "      <td>0.0</td>\n",
       "      <td>debt consolidation</td>\n",
       "      <td>Short Term</td>\n",
       "      <td>309573.0</td>\n",
       "      <td>308389.0</td>\n",
       "      <td>13651.0</td>\n",
       "      <td>742.0</td>\n",
       "      <td>0</td>\n",
       "      <td>2</td>\n",
       "    </tr>\n",
       "    <tr>\n",
       "      <th>3</th>\n",
       "      <td>Own Home</td>\n",
       "      <td>805068.0</td>\n",
       "      <td>6 years</td>\n",
       "      <td>0.0</td>\n",
       "      <td>8.0</td>\n",
       "      <td>22.5</td>\n",
       "      <td>147400.0</td>\n",
       "      <td>1.0</td>\n",
       "      <td>32.0</td>\n",
       "      <td>1.0</td>\n",
       "      <td>debt consolidation</td>\n",
       "      <td>Short Term</td>\n",
       "      <td>121396.0</td>\n",
       "      <td>95855.0</td>\n",
       "      <td>11338.0</td>\n",
       "      <td>694.0</td>\n",
       "      <td>0</td>\n",
       "      <td>3</td>\n",
       "    </tr>\n",
       "    <tr>\n",
       "      <th>4</th>\n",
       "      <td>Rent</td>\n",
       "      <td>776264.0</td>\n",
       "      <td>8 years</td>\n",
       "      <td>0.0</td>\n",
       "      <td>13.0</td>\n",
       "      <td>13.6</td>\n",
       "      <td>385836.0</td>\n",
       "      <td>1.0</td>\n",
       "      <td>32.0</td>\n",
       "      <td>0.0</td>\n",
       "      <td>debt consolidation</td>\n",
       "      <td>Short Term</td>\n",
       "      <td>125840.0</td>\n",
       "      <td>93309.0</td>\n",
       "      <td>7180.0</td>\n",
       "      <td>719.0</td>\n",
       "      <td>0</td>\n",
       "      <td>4</td>\n",
       "    </tr>\n",
       "  </tbody>\n",
       "</table>\n",
       "</div>"
      ],
      "text/plain": [
       "  Home Ownership  Annual Income Years in current job  Tax Liens  \\\n",
       "0       Own Home       482087.0            10+ years        0.0   \n",
       "1       Own Home      1025487.0            10+ years        0.0   \n",
       "2  Home Mortgage       751412.0              8 years        0.0   \n",
       "3       Own Home       805068.0              6 years        0.0   \n",
       "4           Rent       776264.0              8 years        0.0   \n",
       "\n",
       "   Number of Open Accounts  Years of Credit History  Maximum Open Credit  \\\n",
       "0                     11.0                     26.3             685960.0   \n",
       "1                     15.0                     15.3            1181730.0   \n",
       "2                     11.0                     35.0            1182434.0   \n",
       "3                      8.0                     22.5             147400.0   \n",
       "4                     13.0                     13.6             385836.0   \n",
       "\n",
       "   Number of Credit Problems  Months since last delinquent  Bankruptcies  \\\n",
       "0                        1.0                          32.0           1.0   \n",
       "1                        0.0                          32.0           0.0   \n",
       "2                        0.0                          32.0           0.0   \n",
       "3                        1.0                          32.0           1.0   \n",
       "4                        1.0                          32.0           0.0   \n",
       "\n",
       "              Purpose        Term  Current Loan Amount  \\\n",
       "0  debt consolidation  Short Term             309573.0   \n",
       "1  debt consolidation   Long Term             264968.0   \n",
       "2  debt consolidation  Short Term             309573.0   \n",
       "3  debt consolidation  Short Term             121396.0   \n",
       "4  debt consolidation  Short Term             125840.0   \n",
       "\n",
       "   Current Credit Balance  Monthly Debt  Credit Score  Credit Default  Id  \n",
       "0                 47386.0        7914.0         749.0               0   0  \n",
       "1                394972.0       18373.0         737.0               1   1  \n",
       "2                308389.0       13651.0         742.0               0   2  \n",
       "3                 95855.0       11338.0         694.0               0   3  \n",
       "4                 93309.0        7180.0         719.0               0   4  "
      ]
     },
     "execution_count": 250,
     "metadata": {},
     "output_type": "execute_result"
    }
   ],
   "source": [
    "df.head(5)"
   ]
  },
  {
   "cell_type": "markdown",
   "id": "2aecfb1a",
   "metadata": {},
   "source": [
    "**Home Ownership**"
   ]
  },
  {
   "cell_type": "code",
   "execution_count": 251,
   "id": "36048c30",
   "metadata": {},
   "outputs": [
    {
     "data": {
      "text/plain": [
       "Home Mortgage    3649\n",
       "Rent             3204\n",
       "Own Home          647\n",
       "Name: Home Ownership, dtype: int64"
      ]
     },
     "execution_count": 251,
     "metadata": {},
     "output_type": "execute_result"
    }
   ],
   "source": [
    "df['Home Ownership'].value_counts()"
   ]
  },
  {
   "cell_type": "markdown",
   "id": "48853ab7",
   "metadata": {},
   "source": [
    "рассмотрим возможность объединение Home Mortgage и Have Mortgage"
   ]
  },
  {
   "cell_type": "code",
   "execution_count": 252,
   "id": "a26e043f",
   "metadata": {},
   "outputs": [
    {
     "data": {
      "text/html": [
       "<div>\n",
       "<style scoped>\n",
       "    .dataframe tbody tr th:only-of-type {\n",
       "        vertical-align: middle;\n",
       "    }\n",
       "\n",
       "    .dataframe tbody tr th {\n",
       "        vertical-align: top;\n",
       "    }\n",
       "\n",
       "    .dataframe thead th {\n",
       "        text-align: right;\n",
       "    }\n",
       "</style>\n",
       "<table border=\"1\" class=\"dataframe\">\n",
       "  <thead>\n",
       "    <tr style=\"text-align: right;\">\n",
       "      <th></th>\n",
       "      <th>Annual Income</th>\n",
       "      <th>Tax Liens</th>\n",
       "      <th>Number of Open Accounts</th>\n",
       "      <th>Years of Credit History</th>\n",
       "      <th>Maximum Open Credit</th>\n",
       "      <th>Number of Credit Problems</th>\n",
       "      <th>Months since last delinquent</th>\n",
       "      <th>Bankruptcies</th>\n",
       "      <th>Current Loan Amount</th>\n",
       "      <th>Current Credit Balance</th>\n",
       "      <th>Monthly Debt</th>\n",
       "      <th>Credit Score</th>\n",
       "      <th>Credit Default</th>\n",
       "      <th>Id</th>\n",
       "    </tr>\n",
       "  </thead>\n",
       "  <tbody>\n",
       "    <tr>\n",
       "      <th>Annual Income</th>\n",
       "      <td>1.000000</td>\n",
       "      <td>0.057483</td>\n",
       "      <td>0.166414</td>\n",
       "      <td>0.164989</td>\n",
       "      <td>0.203593</td>\n",
       "      <td>-0.013789</td>\n",
       "      <td>-0.057314</td>\n",
       "      <td>-0.058928</td>\n",
       "      <td>0.367871</td>\n",
       "      <td>0.346312</td>\n",
       "      <td>0.515246</td>\n",
       "      <td>0.009447</td>\n",
       "      <td>-0.095203</td>\n",
       "      <td>0.011585</td>\n",
       "    </tr>\n",
       "    <tr>\n",
       "      <th>Tax Liens</th>\n",
       "      <td>0.057483</td>\n",
       "      <td>1.000000</td>\n",
       "      <td>-0.005360</td>\n",
       "      <td>0.009109</td>\n",
       "      <td>-0.007846</td>\n",
       "      <td>0.595339</td>\n",
       "      <td>0.051208</td>\n",
       "      <td>0.057423</td>\n",
       "      <td>0.030073</td>\n",
       "      <td>-0.010195</td>\n",
       "      <td>0.027211</td>\n",
       "      <td>-0.013262</td>\n",
       "      <td>0.024368</td>\n",
       "      <td>0.003393</td>\n",
       "    </tr>\n",
       "    <tr>\n",
       "      <th>Number of Open Accounts</th>\n",
       "      <td>0.166414</td>\n",
       "      <td>-0.005360</td>\n",
       "      <td>1.000000</td>\n",
       "      <td>0.144819</td>\n",
       "      <td>0.198214</td>\n",
       "      <td>-0.017813</td>\n",
       "      <td>-0.015721</td>\n",
       "      <td>-0.018859</td>\n",
       "      <td>0.201868</td>\n",
       "      <td>0.267325</td>\n",
       "      <td>0.413904</td>\n",
       "      <td>-0.028026</td>\n",
       "      <td>0.028884</td>\n",
       "      <td>0.004145</td>\n",
       "    </tr>\n",
       "    <tr>\n",
       "      <th>Years of Credit History</th>\n",
       "      <td>0.164989</td>\n",
       "      <td>0.009109</td>\n",
       "      <td>0.144819</td>\n",
       "      <td>1.000000</td>\n",
       "      <td>0.140764</td>\n",
       "      <td>0.071259</td>\n",
       "      <td>0.002169</td>\n",
       "      <td>0.085592</td>\n",
       "      <td>0.142627</td>\n",
       "      <td>0.217856</td>\n",
       "      <td>0.191978</td>\n",
       "      <td>0.049014</td>\n",
       "      <td>-0.020567</td>\n",
       "      <td>-0.009556</td>\n",
       "    </tr>\n",
       "    <tr>\n",
       "      <th>Maximum Open Credit</th>\n",
       "      <td>0.203593</td>\n",
       "      <td>-0.007846</td>\n",
       "      <td>0.198214</td>\n",
       "      <td>0.140764</td>\n",
       "      <td>1.000000</td>\n",
       "      <td>-0.070070</td>\n",
       "      <td>-0.019155</td>\n",
       "      <td>-0.078459</td>\n",
       "      <td>0.169583</td>\n",
       "      <td>0.574990</td>\n",
       "      <td>0.218768</td>\n",
       "      <td>0.068357</td>\n",
       "      <td>-0.052811</td>\n",
       "      <td>-0.006430</td>\n",
       "    </tr>\n",
       "    <tr>\n",
       "      <th>Number of Credit Problems</th>\n",
       "      <td>-0.013789</td>\n",
       "      <td>0.595339</td>\n",
       "      <td>-0.017813</td>\n",
       "      <td>0.071259</td>\n",
       "      <td>-0.070070</td>\n",
       "      <td>1.000000</td>\n",
       "      <td>0.113736</td>\n",
       "      <td>0.730808</td>\n",
       "      <td>-0.061220</td>\n",
       "      <td>-0.124137</td>\n",
       "      <td>-0.042252</td>\n",
       "      <td>-0.051771</td>\n",
       "      <td>0.020088</td>\n",
       "      <td>0.008264</td>\n",
       "    </tr>\n",
       "    <tr>\n",
       "      <th>Months since last delinquent</th>\n",
       "      <td>-0.057314</td>\n",
       "      <td>0.051208</td>\n",
       "      <td>-0.015721</td>\n",
       "      <td>0.002169</td>\n",
       "      <td>-0.019155</td>\n",
       "      <td>0.113736</td>\n",
       "      <td>1.000000</td>\n",
       "      <td>0.109866</td>\n",
       "      <td>-0.018810</td>\n",
       "      <td>-0.025392</td>\n",
       "      <td>-0.035377</td>\n",
       "      <td>-0.017104</td>\n",
       "      <td>0.002830</td>\n",
       "      <td>0.005866</td>\n",
       "    </tr>\n",
       "    <tr>\n",
       "      <th>Bankruptcies</th>\n",
       "      <td>-0.058928</td>\n",
       "      <td>0.057423</td>\n",
       "      <td>-0.018859</td>\n",
       "      <td>0.085592</td>\n",
       "      <td>-0.078459</td>\n",
       "      <td>0.730808</td>\n",
       "      <td>0.109866</td>\n",
       "      <td>1.000000</td>\n",
       "      <td>-0.091024</td>\n",
       "      <td>-0.142553</td>\n",
       "      <td>-0.078847</td>\n",
       "      <td>-0.042270</td>\n",
       "      <td>0.001640</td>\n",
       "      <td>0.003357</td>\n",
       "    </tr>\n",
       "    <tr>\n",
       "      <th>Current Loan Amount</th>\n",
       "      <td>0.367871</td>\n",
       "      <td>0.030073</td>\n",
       "      <td>0.201868</td>\n",
       "      <td>0.142627</td>\n",
       "      <td>0.169583</td>\n",
       "      <td>-0.061220</td>\n",
       "      <td>-0.018810</td>\n",
       "      <td>-0.091024</td>\n",
       "      <td>1.000000</td>\n",
       "      <td>0.340216</td>\n",
       "      <td>0.410511</td>\n",
       "      <td>-0.164111</td>\n",
       "      <td>0.064181</td>\n",
       "      <td>0.002017</td>\n",
       "    </tr>\n",
       "    <tr>\n",
       "      <th>Current Credit Balance</th>\n",
       "      <td>0.346312</td>\n",
       "      <td>-0.010195</td>\n",
       "      <td>0.267325</td>\n",
       "      <td>0.217856</td>\n",
       "      <td>0.574990</td>\n",
       "      <td>-0.124137</td>\n",
       "      <td>-0.025392</td>\n",
       "      <td>-0.142553</td>\n",
       "      <td>0.340216</td>\n",
       "      <td>1.000000</td>\n",
       "      <td>0.504964</td>\n",
       "      <td>-0.004472</td>\n",
       "      <td>-0.019522</td>\n",
       "      <td>-0.015758</td>\n",
       "    </tr>\n",
       "    <tr>\n",
       "      <th>Monthly Debt</th>\n",
       "      <td>0.515246</td>\n",
       "      <td>0.027211</td>\n",
       "      <td>0.413904</td>\n",
       "      <td>0.191978</td>\n",
       "      <td>0.218768</td>\n",
       "      <td>-0.042252</td>\n",
       "      <td>-0.035377</td>\n",
       "      <td>-0.078847</td>\n",
       "      <td>0.410511</td>\n",
       "      <td>0.504964</td>\n",
       "      <td>1.000000</td>\n",
       "      <td>-0.056371</td>\n",
       "      <td>0.018480</td>\n",
       "      <td>0.005590</td>\n",
       "    </tr>\n",
       "    <tr>\n",
       "      <th>Credit Score</th>\n",
       "      <td>0.009447</td>\n",
       "      <td>-0.013262</td>\n",
       "      <td>-0.028026</td>\n",
       "      <td>0.049014</td>\n",
       "      <td>0.068357</td>\n",
       "      <td>-0.051771</td>\n",
       "      <td>-0.017104</td>\n",
       "      <td>-0.042270</td>\n",
       "      <td>-0.164111</td>\n",
       "      <td>-0.004472</td>\n",
       "      <td>-0.056371</td>\n",
       "      <td>1.000000</td>\n",
       "      <td>-0.105736</td>\n",
       "      <td>-0.022874</td>\n",
       "    </tr>\n",
       "    <tr>\n",
       "      <th>Credit Default</th>\n",
       "      <td>-0.095203</td>\n",
       "      <td>0.024368</td>\n",
       "      <td>0.028884</td>\n",
       "      <td>-0.020567</td>\n",
       "      <td>-0.052811</td>\n",
       "      <td>0.020088</td>\n",
       "      <td>0.002830</td>\n",
       "      <td>0.001640</td>\n",
       "      <td>0.064181</td>\n",
       "      <td>-0.019522</td>\n",
       "      <td>0.018480</td>\n",
       "      <td>-0.105736</td>\n",
       "      <td>1.000000</td>\n",
       "      <td>0.012858</td>\n",
       "    </tr>\n",
       "    <tr>\n",
       "      <th>Id</th>\n",
       "      <td>0.011585</td>\n",
       "      <td>0.003393</td>\n",
       "      <td>0.004145</td>\n",
       "      <td>-0.009556</td>\n",
       "      <td>-0.006430</td>\n",
       "      <td>0.008264</td>\n",
       "      <td>0.005866</td>\n",
       "      <td>0.003357</td>\n",
       "      <td>0.002017</td>\n",
       "      <td>-0.015758</td>\n",
       "      <td>0.005590</td>\n",
       "      <td>-0.022874</td>\n",
       "      <td>0.012858</td>\n",
       "      <td>1.000000</td>\n",
       "    </tr>\n",
       "  </tbody>\n",
       "</table>\n",
       "</div>"
      ],
      "text/plain": [
       "                              Annual Income  Tax Liens  \\\n",
       "Annual Income                      1.000000   0.057483   \n",
       "Tax Liens                          0.057483   1.000000   \n",
       "Number of Open Accounts            0.166414  -0.005360   \n",
       "Years of Credit History            0.164989   0.009109   \n",
       "Maximum Open Credit                0.203593  -0.007846   \n",
       "Number of Credit Problems         -0.013789   0.595339   \n",
       "Months since last delinquent      -0.057314   0.051208   \n",
       "Bankruptcies                      -0.058928   0.057423   \n",
       "Current Loan Amount                0.367871   0.030073   \n",
       "Current Credit Balance             0.346312  -0.010195   \n",
       "Monthly Debt                       0.515246   0.027211   \n",
       "Credit Score                       0.009447  -0.013262   \n",
       "Credit Default                    -0.095203   0.024368   \n",
       "Id                                 0.011585   0.003393   \n",
       "\n",
       "                              Number of Open Accounts  \\\n",
       "Annual Income                                0.166414   \n",
       "Tax Liens                                   -0.005360   \n",
       "Number of Open Accounts                      1.000000   \n",
       "Years of Credit History                      0.144819   \n",
       "Maximum Open Credit                          0.198214   \n",
       "Number of Credit Problems                   -0.017813   \n",
       "Months since last delinquent                -0.015721   \n",
       "Bankruptcies                                -0.018859   \n",
       "Current Loan Amount                          0.201868   \n",
       "Current Credit Balance                       0.267325   \n",
       "Monthly Debt                                 0.413904   \n",
       "Credit Score                                -0.028026   \n",
       "Credit Default                               0.028884   \n",
       "Id                                           0.004145   \n",
       "\n",
       "                              Years of Credit History  Maximum Open Credit  \\\n",
       "Annual Income                                0.164989             0.203593   \n",
       "Tax Liens                                    0.009109            -0.007846   \n",
       "Number of Open Accounts                      0.144819             0.198214   \n",
       "Years of Credit History                      1.000000             0.140764   \n",
       "Maximum Open Credit                          0.140764             1.000000   \n",
       "Number of Credit Problems                    0.071259            -0.070070   \n",
       "Months since last delinquent                 0.002169            -0.019155   \n",
       "Bankruptcies                                 0.085592            -0.078459   \n",
       "Current Loan Amount                          0.142627             0.169583   \n",
       "Current Credit Balance                       0.217856             0.574990   \n",
       "Monthly Debt                                 0.191978             0.218768   \n",
       "Credit Score                                 0.049014             0.068357   \n",
       "Credit Default                              -0.020567            -0.052811   \n",
       "Id                                          -0.009556            -0.006430   \n",
       "\n",
       "                              Number of Credit Problems  \\\n",
       "Annual Income                                 -0.013789   \n",
       "Tax Liens                                      0.595339   \n",
       "Number of Open Accounts                       -0.017813   \n",
       "Years of Credit History                        0.071259   \n",
       "Maximum Open Credit                           -0.070070   \n",
       "Number of Credit Problems                      1.000000   \n",
       "Months since last delinquent                   0.113736   \n",
       "Bankruptcies                                   0.730808   \n",
       "Current Loan Amount                           -0.061220   \n",
       "Current Credit Balance                        -0.124137   \n",
       "Monthly Debt                                  -0.042252   \n",
       "Credit Score                                  -0.051771   \n",
       "Credit Default                                 0.020088   \n",
       "Id                                             0.008264   \n",
       "\n",
       "                              Months since last delinquent  Bankruptcies  \\\n",
       "Annual Income                                    -0.057314     -0.058928   \n",
       "Tax Liens                                         0.051208      0.057423   \n",
       "Number of Open Accounts                          -0.015721     -0.018859   \n",
       "Years of Credit History                           0.002169      0.085592   \n",
       "Maximum Open Credit                              -0.019155     -0.078459   \n",
       "Number of Credit Problems                         0.113736      0.730808   \n",
       "Months since last delinquent                      1.000000      0.109866   \n",
       "Bankruptcies                                      0.109866      1.000000   \n",
       "Current Loan Amount                              -0.018810     -0.091024   \n",
       "Current Credit Balance                           -0.025392     -0.142553   \n",
       "Monthly Debt                                     -0.035377     -0.078847   \n",
       "Credit Score                                     -0.017104     -0.042270   \n",
       "Credit Default                                    0.002830      0.001640   \n",
       "Id                                                0.005866      0.003357   \n",
       "\n",
       "                              Current Loan Amount  Current Credit Balance  \\\n",
       "Annual Income                            0.367871                0.346312   \n",
       "Tax Liens                                0.030073               -0.010195   \n",
       "Number of Open Accounts                  0.201868                0.267325   \n",
       "Years of Credit History                  0.142627                0.217856   \n",
       "Maximum Open Credit                      0.169583                0.574990   \n",
       "Number of Credit Problems               -0.061220               -0.124137   \n",
       "Months since last delinquent            -0.018810               -0.025392   \n",
       "Bankruptcies                            -0.091024               -0.142553   \n",
       "Current Loan Amount                      1.000000                0.340216   \n",
       "Current Credit Balance                   0.340216                1.000000   \n",
       "Monthly Debt                             0.410511                0.504964   \n",
       "Credit Score                            -0.164111               -0.004472   \n",
       "Credit Default                           0.064181               -0.019522   \n",
       "Id                                       0.002017               -0.015758   \n",
       "\n",
       "                              Monthly Debt  Credit Score  Credit Default  \\\n",
       "Annual Income                     0.515246      0.009447       -0.095203   \n",
       "Tax Liens                         0.027211     -0.013262        0.024368   \n",
       "Number of Open Accounts           0.413904     -0.028026        0.028884   \n",
       "Years of Credit History           0.191978      0.049014       -0.020567   \n",
       "Maximum Open Credit               0.218768      0.068357       -0.052811   \n",
       "Number of Credit Problems        -0.042252     -0.051771        0.020088   \n",
       "Months since last delinquent     -0.035377     -0.017104        0.002830   \n",
       "Bankruptcies                     -0.078847     -0.042270        0.001640   \n",
       "Current Loan Amount               0.410511     -0.164111        0.064181   \n",
       "Current Credit Balance            0.504964     -0.004472       -0.019522   \n",
       "Monthly Debt                      1.000000     -0.056371        0.018480   \n",
       "Credit Score                     -0.056371      1.000000       -0.105736   \n",
       "Credit Default                    0.018480     -0.105736        1.000000   \n",
       "Id                                0.005590     -0.022874        0.012858   \n",
       "\n",
       "                                    Id  \n",
       "Annual Income                 0.011585  \n",
       "Tax Liens                     0.003393  \n",
       "Number of Open Accounts       0.004145  \n",
       "Years of Credit History      -0.009556  \n",
       "Maximum Open Credit          -0.006430  \n",
       "Number of Credit Problems     0.008264  \n",
       "Months since last delinquent  0.005866  \n",
       "Bankruptcies                  0.003357  \n",
       "Current Loan Amount           0.002017  \n",
       "Current Credit Balance       -0.015758  \n",
       "Monthly Debt                  0.005590  \n",
       "Credit Score                 -0.022874  \n",
       "Credit Default                0.012858  \n",
       "Id                            1.000000  "
      ]
     },
     "execution_count": 252,
     "metadata": {},
     "output_type": "execute_result"
    }
   ],
   "source": [
    "df.corr()"
   ]
  },
  {
   "cell_type": "code",
   "execution_count": 253,
   "id": "b82a9df2",
   "metadata": {},
   "outputs": [
    {
     "data": {
      "image/png": "[encoded data removed]",
      "text/plain": [
       "<Figure size 720x576 with 1 Axes>"
      ]
     },
     "metadata": {
      "needs_background": "light"
     },
     "output_type": "display_data"
    }
   ],
   "source": [
    "plt.figure(figsize=(10, 8))\n",
    "\n",
    "sns.pointplot(x=\"Home Ownership\", y=\"Credit Default\", data=df, capsize=.1)\n",
    "\n",
    "plt.show()"
   ]
  },
  {
   "cell_type": "markdown",
   "id": "7bbf43af",
   "metadata": {},
   "source": [
    "на графике доверительных интервалов однозначного ответа не видно, проверим статистическую гипотезу о согласованности частот методом Хи-квадрат.\n",
    "\n",
    "- H0 - частоты согласованы\n",
    "- H1 - частоты не согласованы"
   ]
  },
  {
   "cell_type": "code",
   "execution_count": 254,
   "id": "0986a29a",
   "metadata": {},
   "outputs": [],
   "source": [
    "df[\"Id\"] = df.index\n",
    "\n",
    "Home_Ownership_and_target = df.loc[df[\"Home Ownership\"].isin([\"Have Mortgage\", \"Home Mortgage\"]), \\\n",
    "                                   [\"Id\", \"Home Ownership\", \"Credit Default\"]]"
   ]
  },
  {
   "cell_type": "code",
   "execution_count": 255,
   "id": "db1ec610",
   "metadata": {},
   "outputs": [
    {
     "data": {
      "text/html": [
       "<div>\n",
       "<style scoped>\n",
       "    .dataframe tbody tr th:only-of-type {\n",
       "        vertical-align: middle;\n",
       "    }\n",
       "\n",
       "    .dataframe tbody tr th {\n",
       "        vertical-align: top;\n",
       "    }\n",
       "\n",
       "    .dataframe thead th {\n",
       "        text-align: right;\n",
       "    }\n",
       "</style>\n",
       "<table border=\"1\" class=\"dataframe\">\n",
       "  <thead>\n",
       "    <tr style=\"text-align: right;\">\n",
       "      <th>Credit Default</th>\n",
       "      <th>0</th>\n",
       "      <th>1</th>\n",
       "    </tr>\n",
       "    <tr>\n",
       "      <th>Home Ownership</th>\n",
       "      <th></th>\n",
       "      <th></th>\n",
       "    </tr>\n",
       "  </thead>\n",
       "  <tbody>\n",
       "    <tr>\n",
       "      <th>Home Mortgage</th>\n",
       "      <td>2731</td>\n",
       "      <td>918</td>\n",
       "    </tr>\n",
       "  </tbody>\n",
       "</table>\n",
       "</div>"
      ],
      "text/plain": [
       "Credit Default     0    1\n",
       "Home Ownership           \n",
       "Home Mortgage   2731  918"
      ]
     },
     "execution_count": 255,
     "metadata": {},
     "output_type": "execute_result"
    }
   ],
   "source": [
    "table = Home_Ownership_and_target.pivot_table(values=\"Id\", index=\"Home Ownership\", columns=\"Credit Default\", aggfunc=\"count\")\n",
    "table"
   ]
  },
  {
   "cell_type": "code",
   "execution_count": 256,
   "id": "f263ad9b",
   "metadata": {},
   "outputs": [
    {
     "data": {
      "text/plain": [
       "1.0"
      ]
     },
     "execution_count": 256,
     "metadata": {},
     "output_type": "execute_result"
    }
   ],
   "source": [
    "chi2, p, _, _ = stats.chi2_contingency(table)\n",
    "p"
   ]
  },
  {
   "cell_type": "markdown",
   "id": "1f7bf2ed",
   "metadata": {},
   "source": [
    "Н0 верна, значит можно объединить\n",
    "\n",
    "*Объединение* "
   ]
  },
  {
   "cell_type": "code",
   "execution_count": 257,
   "id": "fd34d3b3",
   "metadata": {},
   "outputs": [],
   "source": [
    "def change_home_ownership(df):\n",
    "    df.loc[df['Home Ownership'] == 'Have Mortgage', 'Home Ownership'] = 'Home Mortgage'\n",
    "    return df\n",
    "\n",
    "test = change_home_ownership(test)\n",
    "train = change_home_ownership(train)"
   ]
  },
  {
   "cell_type": "code",
   "execution_count": 263,
   "id": "712bbc86",
   "metadata": {},
   "outputs": [
    {
     "data": {
      "image/png": "[encoded data removed]",
      "text/plain": [
       "<Figure size 576x432 with 1 Axes>"
      ]
     },
     "metadata": {
      "needs_background": "light"
     },
     "output_type": "display_data"
    }
   ],
   "source": [
    "num_feature = 'Annual Income'\n",
    "col = \"Home Ownership\"\n",
    "plt.figure(figsize=(8, 6))\n",
    "sns.pointplot(x=col, y=num_feature, data=train, capsize=.1, label='train', color='r')\n",
    "sns.pointplot(x=col, y=num_feature, data=test, capsize=.1, label='test', color='g')\n",
    "plt.title(col)\n",
    "plt.show()"
   ]
  },
  {
   "cell_type": "code",
   "execution_count": null,
   "id": "f2e93293",
   "metadata": {},
   "outputs": [],
   "source": []
  }
 ],
 "metadata": {
  "kernelspec": {
   "display_name": "Python 3 (ipykernel)",
   "language": "python",
   "name": "python3"
  },
  "language_info": {
   "codemirror_mode": {
    "name": "ipython",
    "version": 3
   },
   "file_extension": ".py",
   "mimetype": "text/x-python",
   "name": "python",
   "nbconvert_exporter": "python",
   "pygments_lexer": "ipython3",
   "version": "3.9.2"
  }
 },
 "nbformat": 4,
 "nbformat_minor": 5
}
